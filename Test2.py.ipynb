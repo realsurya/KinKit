{
 "cells": [
  {
   "cell_type": "code",
   "execution_count": 1,
   "id": "dfc1891d",
   "metadata": {},
   "outputs": [],
   "source": [
    "import kinkit as kin\n",
    "import numpy as np"
   ]
  },
  {
   "cell_type": "code",
   "execution_count": 2,
   "id": "4a08ccbc",
   "metadata": {},
   "outputs": [],
   "source": [
    "t1 = np.pi/3\n",
    "t2 = -np.pi/4\n",
    "t3 = -np.pi/6"
   ]
  },
  {
   "cell_type": "code",
   "execution_count": 3,
   "id": "ef8dbd76",
   "metadata": {},
   "outputs": [
    {
     "data": {
      "text/plain": [
       "array([[ 0.61237244, -0.78033009, -0.12682648],\n",
       "       [ 0.35355339,  0.12682648,  0.9267767 ],\n",
       "       [-0.70710678, -0.61237244,  0.35355339]])"
      ]
     },
     "execution_count": 3,
     "metadata": {},
     "output_type": "execute_result"
    }
   ],
   "source": [
    "DCM123 = kin.EAtoDCM(123, t1, t2, t3)\n",
    "DCM123"
   ]
  },
  {
   "cell_type": "code",
   "execution_count": 4,
   "id": "224c5cde",
   "metadata": {},
   "outputs": [
    {
     "data": {
      "text/plain": [
       "array([[ 1., -0.,  0.],\n",
       "       [-0.,  1., -0.],\n",
       "       [ 0., -0.,  1.]])"
      ]
     },
     "execution_count": 4,
     "metadata": {},
     "output_type": "execute_result"
    }
   ],
   "source": [
    "np.round(np.matmul(DCM123,DCM123.transpose()))"
   ]
  },
  {
   "cell_type": "code",
   "execution_count": null,
   "id": "245a4097",
   "metadata": {},
   "outputs": [],
   "source": []
  }
 ],
 "metadata": {
  "kernelspec": {
   "display_name": "Python 3 (ipykernel)",
   "language": "python",
   "name": "python3"
  },
  "language_info": {
   "codemirror_mode": {
    "name": "ipython",
    "version": 3
   },
   "file_extension": ".py",
   "mimetype": "text/x-python",
   "name": "python",
   "nbconvert_exporter": "python",
   "pygments_lexer": "ipython3",
   "version": "3.11.4"
  }
 },
 "nbformat": 4,
 "nbformat_minor": 5
}
