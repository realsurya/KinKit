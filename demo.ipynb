{
 "cells": [
  {
   "cell_type": "code",
   "execution_count": 1,
   "id": "ab1d3721",
   "metadata": {},
   "outputs": [],
   "source": [
    "import kinkit as kin\n",
    "import numpy as np"
   ]
  },
  {
   "cell_type": "code",
   "execution_count": 2,
   "id": "f1d4832d",
   "metadata": {},
   "outputs": [],
   "source": [
    "t1 = np.pi/3\n",
    "t2 = -np.pi/4\n",
    "t3 = -np.pi/6"
   ]
  },
  {
   "cell_type": "markdown",
   "id": "cc947f6d",
   "metadata": {},
   "source": [
    "# DCM from Euler Angle Sequence (Forward Mapping)"
   ]
  },
  {
   "cell_type": "markdown",
   "id": "0e600551",
   "metadata": {},
   "source": [
    "This depicts finding the DCM for a 123 sequence (R1, R2, R3) = (t1, t2, t3)."
   ]
  },
  {
   "cell_type": "code",
   "execution_count": 3,
   "id": "99983ce9",
   "metadata": {},
   "outputs": [
    {
     "data": {
      "text/plain": [
       "array([[ 0.61237244, -0.78033009, -0.12682648],\n",
       "       [ 0.35355339,  0.12682648,  0.9267767 ],\n",
       "       [-0.70710678, -0.61237244,  0.35355339]])"
      ]
     },
     "execution_count": 3,
     "metadata": {},
     "output_type": "execute_result"
    }
   ],
   "source": [
    "DCM123 = kin.EAtoDCM(123, t1, t2, t3)\n",
    "DCM123"
   ]
  },
  {
   "cell_type": "code",
   "execution_count": 4,
   "id": "fc212cc8",
   "metadata": {
    "scrolled": true
   },
   "outputs": [
    {
     "data": {
      "text/plain": [
       "array([[ 1., -0.,  0.],\n",
       "       [-0.,  1., -0.],\n",
       "       [ 0., -0.,  1.]])"
      ]
     },
     "execution_count": 4,
     "metadata": {},
     "output_type": "execute_result"
    }
   ],
   "source": [
    "np.round(np.matmul(DCM123,DCM123.transpose()))"
   ]
  },
  {
   "cell_type": "markdown",
   "id": "e3b5b46f",
   "metadata": {},
   "source": [
    "We have verified the DCM is orthogonal"
   ]
  },
  {
   "cell_type": "markdown",
   "id": "d9991e22",
   "metadata": {},
   "source": [
    "# Euler Angle from DCM (Inverse Mapping)"
   ]
  },
  {
   "cell_type": "markdown",
   "id": "3b4f37d7",
   "metadata": {},
   "source": [
    "Here, we take the DCM of the 123 Euler Angle Seqence and inverse map to find the 323 sequence for that rotation."
   ]
  },
  {
   "cell_type": "code",
   "execution_count": 21,
   "id": "e59f73db",
   "metadata": {},
   "outputs": [
    {
     "data": {
      "text/plain": [
       "array([-2.42786827,  1.2094292 ,  1.43479424])"
      ]
     },
     "execution_count": 21,
     "metadata": {},
     "output_type": "execute_result"
    }
   ],
   "source": [
    "EA323 = kin.DCMtoEA(323, DCM123)\n",
    "EA323"
   ]
  },
  {
   "cell_type": "code",
   "execution_count": 6,
   "id": "69cf6261",
   "metadata": {
    "scrolled": true
   },
   "outputs": [
    {
     "data": {
      "text/plain": [
       "array([[ 0.61237244, -0.78033009, -0.12682648],\n",
       "       [ 0.35355339,  0.12682648,  0.9267767 ],\n",
       "       [-0.70710678, -0.61237244,  0.35355339]])"
      ]
     },
     "execution_count": 6,
     "metadata": {},
     "output_type": "execute_result"
    }
   ],
   "source": [
    "DCM323 = kin.EAtoDCM(323, EA323[0], EA323[1], EA323[2])\n",
    "DCM323"
   ]
  },
  {
   "cell_type": "markdown",
   "id": "aaf93cbc",
   "metadata": {},
   "source": [
    "We have verified that the original DCM is returned through forward mapping."
   ]
  },
  {
   "cell_type": "markdown",
   "id": "5bc9b188",
   "metadata": {},
   "source": [
    "# Other Forward Mapping Functions"
   ]
  },
  {
   "cell_type": "code",
   "execution_count": 8,
   "id": "18938a44",
   "metadata": {},
   "outputs": [
    {
     "data": {
      "text/plain": [
       "(1.5244035316163185, array([ 0.77040348, -0.29045266, -0.5675524 ]))"
      ]
     },
     "execution_count": 8,
     "metadata": {},
     "output_type": "execute_result"
    }
   ],
   "source": [
    "kin.DCMtoPRP(DCM123)"
   ]
  },
  {
   "cell_type": "code",
   "execution_count": 10,
   "id": "5d4b34d8",
   "metadata": {},
   "outputs": [
    {
     "data": {
      "text/plain": [
       "array([ 0.5319757 , -0.20056212, -0.39190384,  0.72331741])"
      ]
     },
     "execution_count": 10,
     "metadata": {},
     "output_type": "execute_result"
    }
   ],
   "source": [
    "kin.DCMtoEP(DCM123)"
   ]
  },
  {
   "cell_type": "code",
   "execution_count": 13,
   "id": "8b54b368",
   "metadata": {},
   "outputs": [
    {
     "data": {
      "text/plain": [
       "array([ 0.73546646, -0.27728093, -0.54181447])"
      ]
     },
     "execution_count": 13,
     "metadata": {},
     "output_type": "execute_result"
    }
   ],
   "source": [
    "kin.DCMtoCRP(DCM123)"
   ]
  },
  {
   "cell_type": "code",
   "execution_count": 14,
   "id": "1296d7d3",
   "metadata": {
    "scrolled": true
   },
   "outputs": [
    {
     "data": {
      "text/plain": [
       "array([ 0.30869281, -0.11638142, -0.22741245])"
      ]
     },
     "execution_count": 14,
     "metadata": {},
     "output_type": "execute_result"
    }
   ],
   "source": [
    "kin.DCMtoMRP(DCM123)"
   ]
  },
  {
   "cell_type": "code",
   "execution_count": 11,
   "id": "4fb5cf46",
   "metadata": {},
   "outputs": [
    {
     "data": {
      "text/plain": [
       "0.9999999999999999"
      ]
     },
     "execution_count": 11,
     "metadata": {},
     "output_type": "execute_result"
    }
   ],
   "source": [
    "np.linalg.norm(kin.DCMtoEP(DCM123))"
   ]
  },
  {
   "cell_type": "markdown",
   "id": "fe95eaec",
   "metadata": {},
   "source": [
    "Unit norm constraint met for Euler Parameter"
   ]
  },
  {
   "cell_type": "markdown",
   "id": "b7d7a49b",
   "metadata": {},
   "source": [
    "# Inverse Mapping Functions"
   ]
  },
  {
   "cell_type": "markdown",
   "id": "12ab2697",
   "metadata": {},
   "source": [
    "We can pass the DCM into the forward mapping function (for instance, DCM -> CRP). We then pass it back through an inverse mapping (CRP -> DCM). The result must be the original DCM."
   ]
  },
  {
   "cell_type": "code",
   "execution_count": 15,
   "id": "470a6322",
   "metadata": {},
   "outputs": [
    {
     "data": {
      "text/plain": [
       "array([[ 0.61237244, -0.78033009, -0.12682648],\n",
       "       [ 0.35355339,  0.12682648,  0.9267767 ],\n",
       "       [-0.70710678, -0.61237244,  0.35355339]])"
      ]
     },
     "execution_count": 15,
     "metadata": {},
     "output_type": "execute_result"
    }
   ],
   "source": [
    "kin.PRPtoDCM(kin.DCMtoPRP(DCM123))"
   ]
  },
  {
   "cell_type": "code",
   "execution_count": 16,
   "id": "a9a917eb",
   "metadata": {
    "scrolled": true
   },
   "outputs": [
    {
     "data": {
      "text/plain": [
       "array([[ 0.61237244, -0.78033009, -0.12682648],\n",
       "       [ 0.35355339,  0.12682648,  0.9267767 ],\n",
       "       [-0.70710678, -0.61237244,  0.35355339]])"
      ]
     },
     "execution_count": 16,
     "metadata": {},
     "output_type": "execute_result"
    }
   ],
   "source": [
    "kin.EPtoDCM(kin.DCMtoEP(DCM123))"
   ]
  },
  {
   "cell_type": "code",
   "execution_count": 18,
   "id": "54fa1715",
   "metadata": {},
   "outputs": [
    {
     "data": {
      "text/plain": [
       "array([[ 0.61237244, -0.78033009, -0.12682648],\n",
       "       [ 0.35355339,  0.12682648,  0.9267767 ],\n",
       "       [-0.70710678, -0.61237244,  0.35355339]])"
      ]
     },
     "execution_count": 18,
     "metadata": {},
     "output_type": "execute_result"
    }
   ],
   "source": [
    "kin.CRPtoDCM(kin.DCMtoCRP(DCM123))"
   ]
  },
  {
   "cell_type": "code",
   "execution_count": 19,
   "id": "157548a7",
   "metadata": {},
   "outputs": [
    {
     "data": {
      "text/plain": [
       "array([[ 0.61237244, -0.78033009, -0.12682648],\n",
       "       [ 0.35355339,  0.12682648,  0.9267767 ],\n",
       "       [-0.70710678, -0.61237244,  0.35355339]])"
      ]
     },
     "execution_count": 19,
     "metadata": {},
     "output_type": "execute_result"
    }
   ],
   "source": [
    "kin.MRPtoDCM(kin.DCMtoMRP(DCM123))"
   ]
  }
 ],
 "metadata": {
  "kernelspec": {
   "display_name": "Python 3 (ipykernel)",
   "language": "python",
   "name": "python3"
  },
  "language_info": {
   "codemirror_mode": {
    "name": "ipython",
    "version": 3
   },
   "file_extension": ".py",
   "mimetype": "text/x-python",
   "name": "python",
   "nbconvert_exporter": "python",
   "pygments_lexer": "ipython3",
   "version": "3.11.4"
  }
 },
 "nbformat": 4,
 "nbformat_minor": 5
}
